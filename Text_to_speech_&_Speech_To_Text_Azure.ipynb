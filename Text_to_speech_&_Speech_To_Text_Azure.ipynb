{
  "nbformat": 4,
  "nbformat_minor": 0,
  "metadata": {
    "colab": {
      "provenance": []
    },
    "kernelspec": {
      "name": "python3",
      "display_name": "Python 3"
    },
    "language_info": {
      "name": "python"
    }
  },
  "cells": [
    {
      "cell_type": "markdown",
      "source": [
        "# Text to speech"
      ],
      "metadata": {
        "id": "4I3fkdN5OH2K"
      }
    },
    {
      "cell_type": "code",
      "source": [
        "from google.colab import drive\n",
        "drive.mount('/content/drive')"
      ],
      "metadata": {
        "colab": {
          "base_uri": "https://localhost:8080/"
        },
        "id": "JElQTMJcdBxx",
        "outputId": "44ae0a0f-c29c-477c-c781-6b3636c12350"
      },
      "execution_count": null,
      "outputs": [
        {
          "output_type": "stream",
          "name": "stdout",
          "text": [
            "Drive already mounted at /content/drive; to attempt to forcibly remount, call drive.mount(\"/content/drive\", force_remount=True).\n"
          ]
        }
      ]
    },
    {
      "cell_type": "code",
      "source": [
        "!pip install azure-cognitiveservices-speech"
      ],
      "metadata": {
        "id": "WnlRpqafXnEX",
        "colab": {
          "base_uri": "https://localhost:8080/"
        },
        "outputId": "4fbd8d09-678a-4b73-d6e3-e39fceb43e9b"
      },
      "execution_count": null,
      "outputs": [
        {
          "output_type": "stream",
          "name": "stdout",
          "text": [
            "Looking in indexes: https://pypi.org/simple, https://us-python.pkg.dev/colab-wheels/public/simple/\n",
            "Collecting azure-cognitiveservices-speech\n",
            "  Downloading azure_cognitiveservices_speech-1.24.2-py3-none-manylinux1_x86_64.whl (2.5 MB)\n",
            "\u001b[K     |████████████████████████████████| 2.5 MB 5.2 MB/s \n"
          ]
        }
      ]
    },
    {
      "cell_type": "code",
      "source": [
        "!pip install --upgrade azure-cognitiveservices-speech\n"
      ],
      "metadata": {
        "id": "jnnEp8ne8HTo"
      },
      "execution_count": null,
      "outputs": []
    },
    {
      "cell_type": "code",
      "source": [
        "import azure.cognitiveservices.speech as speechsdk\n"
      ],
      "metadata": {
        "id": "bD7HPc_68Rtf"
      },
      "execution_count": null,
      "outputs": []
    },
    {
      "cell_type": "code",
      "source": [
        "from azure.cognitiveservices.speech import (\n",
        "    AudioDataStream,\n",
        "    SpeechConfig,\n",
        "    SpeechSynthesizer,\n",
        "    SpeechSynthesisOutputFormat,\n",
        ")"
      ],
      "metadata": {
        "id": "boYRYLXv-koT"
      },
      "execution_count": null,
      "outputs": []
    },
    {
      "cell_type": "code",
      "source": [
        "API_KEY='070e2498f4aa451d9fa29fc493abf53b'"
      ],
      "metadata": {
        "id": "U2g1U81VMwys"
      },
      "execution_count": null,
      "outputs": []
    },
    {
      "cell_type": "code",
      "source": [
        "speech_config = SpeechConfig(subscription=API_KEY, region=\"eastus\")"
      ],
      "metadata": {
        "id": "vvSxqx81-sEi"
      },
      "execution_count": null,
      "outputs": []
    },
    {
      "cell_type": "code",
      "source": [
        "speech_config = speechsdk.SpeechConfig(subscription=API_KEY,\n",
        "                                       region=\"eastus\",\n",
        "                                       speech_recognition_language='en-GB')"
      ],
      "metadata": {
        "id": "v82xtHMl8q94"
      },
      "execution_count": null,
      "outputs": []
    },
    {
      "cell_type": "code",
      "source": [
        "audio_format = \"Riff24Khz16BitMonoPcm\""
      ],
      "metadata": {
        "id": "Dlw5mcpp-8dX"
      },
      "execution_count": null,
      "outputs": []
    },
    {
      "cell_type": "code",
      "source": [
        "speech_config.set_speech_synthesis_output_format(\n",
        "    SpeechSynthesisOutputFormat[audio_format]\n",
        ")"
      ],
      "metadata": {
        "id": "pbUMqmVF-2_K"
      },
      "execution_count": null,
      "outputs": []
    },
    {
      "cell_type": "code",
      "source": [
        "with open('input.xml', 'r') as f:\n",
        "    data = f.read()"
      ],
      "metadata": {
        "id": "OQz79dtCAJfY"
      },
      "execution_count": null,
      "outputs": []
    },
    {
      "cell_type": "code",
      "source": [
        "import random\n",
        "from azure.cognitiveservices.speech import (\n",
        "    AudioDataStream,\n",
        "    SpeechConfig,\n",
        "    SpeechSynthesizer,\n",
        "    SpeechSynthesisOutputFormat,\n",
        ")\n",
        "\n",
        "# Subscription settings from Azure\n",
        "# Region can be westeurope for example\n",
        "key = '070e2498f4aa451d9fa29fc493abf53b'\n",
        "region = \"eastus\"\n",
        "subscription_key = '070e2498f4aa451d9fa29fc493abf53b'\n",
        "subscription_region = \"eastus\"\n",
        "\n",
        "# Input SSML file\n",
        "# Open this file to change or fine-tune the pitch, pronunciation, speaking rate, volume, voice, language and more\n",
        "# https://github.com/MicrosoftDocs/azure-docs/blob/master/articles/cognitive-services/Speech-Service/language-support.md#neural-voices\n",
        "\n",
        "input_file = \"input.xml\"\n",
        "\n",
        "# https://docs.microsoft.com/nl-nl/python/api/azure-cognitiveservices-speech/azure.cognitiveservices.speech.speechsynthesisoutputformat?view=azure-python\n",
        "audio_format = \"Riff24Khz16BitMonoPcm\"\n",
        "\n",
        "# Output folder and file\n",
        "output_folder = \"/content/drive/MyDrive/Data text to speech\"\n",
        "output_file = f\"file-{random.randint(10000,99999)}.wav\"\n",
        "\n",
        "speech_config = SpeechConfig(subscription=subscription_key, region=subscription_region)\n",
        "speech_config.set_speech_synthesis_output_format(\n",
        "    SpeechSynthesisOutputFormat[audio_format]\n",
        ")\n",
        "synthesizer = SpeechSynthesizer(speech_config=speech_config, audio_config=None)\n",
        "\n",
        "input = open(f\"{input_file}\", \"r\").read()\n",
        "result = synthesizer.speak_ssml_async(input).get()\n",
        "\n",
        "stream = AudioDataStream(result)\n",
        "stream.save_to_wav_file(f\"{output_file}\")"
      ],
      "metadata": {
        "id": "vTwQX9Rn65rF"
      },
      "execution_count": null,
      "outputs": []
    },
    {
      "cell_type": "code",
      "source": [],
      "metadata": {
        "id": "squubsO2Vlrs"
      },
      "execution_count": null,
      "outputs": []
    },
    {
      "cell_type": "markdown",
      "source": [
        "# Speech to text"
      ],
      "metadata": {
        "id": "DWWbEHd7OBta"
      }
    },
    {
      "cell_type": "code",
      "source": [
        "import glob\n",
        "import azure.cognitiveservices.speech as speechsdk\n",
        "import time\n",
        "import pandas as pd"
      ],
      "metadata": {
        "id": "BjCUVO8nSOXJ"
      },
      "execution_count": null,
      "outputs": []
    },
    {
      "cell_type": "code",
      "source": [
        "speech_key = \"070e2498f4aa451d9fa29fc493abf53b\"\n",
        "service_region = \"eastus\"\n",
        "\n",
        "# File location\n",
        "location = \"/content/drive/MyDrive/Data speech to text\""
      ],
      "metadata": {
        "id": "Dg77kjgaOGk4"
      },
      "execution_count": null,
      "outputs": []
    },
    {
      "cell_type": "code",
      "source": [
        "speech_key, service_region = speech_key, service_region\n",
        "speech_config = speechsdk.SpeechConfig(subscription=speech_key, region=service_region)"
      ],
      "metadata": {
        "id": "I6EbdUc7SIpE"
      },
      "execution_count": null,
      "outputs": []
    },
    {
      "cell_type": "code",
      "source": [
        "def speech_recognize_continuous_from_file(file):\n",
        "    \"\"\"performs continuous speech recognition with input from an audio file\"\"\"\n",
        "    # <SpeechContinuousRecognitionWithFile>\n",
        "    speech_config = speechsdk.SpeechConfig(subscription=speech_key, region=service_region)\n",
        "    audio_config = speechsdk.audio.AudioConfig(filename=file)\n",
        "\n",
        "    speech_recognizer = speechsdk.SpeechRecognizer(speech_config=speech_config, audio_config=audio_config)\n",
        "\n",
        "    done = False\n",
        "\n",
        "    def stop_cb(evt):\n",
        "        \"\"\"callback that stops continuous recognition upon receiving an event `evt`\"\"\"\n",
        "        print('CLOSING on {}'.format(evt))\n",
        "        speech_recognizer.stop_continuous_recognition()\n",
        "        nonlocal done\n",
        "        done = True\n",
        "\n",
        "    all_results = []\n",
        "    def handle_final_result(evt):\n",
        "        all_results.append(evt.result.text)\n",
        "\n",
        "    speech_recognizer.recognized.connect(handle_final_result)\n",
        "    # Connect callbacks to the events fired by the speech recognizer\n",
        "    speech_recognizer.recognizing.connect(lambda evt: print('RECOGNIZING: {}'.format(evt)))\n",
        "    speech_recognizer.recognized.connect(lambda evt: print('RECOGNIZED: {}'.format(evt)))\n",
        "    speech_recognizer.session_started.connect(lambda evt: print('SESSION STARTED: {}'.format(evt)))\n",
        "    speech_recognizer.session_stopped.connect(lambda evt: print('SESSION STOPPED {}'.format(evt)))\n",
        "    speech_recognizer.canceled.connect(lambda evt: print('CANCELED {}'.format(evt)))\n",
        "    # stop continuous recognition on either session stopped or canceled events\n",
        "    speech_recognizer.session_stopped.connect(stop_cb)\n",
        "    speech_recognizer.canceled.connect(stop_cb)\n",
        "\n",
        "    # Start continuous speech recognition\n",
        "    speech_recognizer.start_continuous_recognition()\n",
        "    while not done:\n",
        "        time.sleep(.5)\n",
        "\n",
        "    print(\"Printing all results:\")\n",
        "    print(all_results)\n",
        "\n",
        "    df = pd.DataFrame(all_results)\n",
        "    df\n",
        "\n",
        "    file_name = file + r\"-speech-to-text-csv-output.csv\"\n",
        "    df.to_csv(file_name)\n",
        "\n",
        "\n",
        "    print (\"Audio File: \"+file+\" converted successfully\")\n",
        "    print (\"####################################################################################\")\n"
      ],
      "metadata": {
        "id": "hTBp9iJrSril"
      },
      "execution_count": null,
      "outputs": []
    },
    {
      "cell_type": "code",
      "source": [
        "location = location\n",
        "\n",
        "fileset = [file for file in glob.glob(location + \"**/*.wav\", recursive=True)]\n",
        "\n",
        "# Loop to call function to convert audio files to text\n",
        "for file in fileset:\n",
        "    #run_speech_to_text_small_audio_files(file)\n",
        "    speech_recognize_continuous_from_file(file)\n",
        "    print(file)"
      ],
      "metadata": {
        "id": "AZWZVpkBSyvc",
        "colab": {
          "base_uri": "https://localhost:8080/"
        },
        "outputId": "2698ed12-5c89-434e-b043-7263250c5c80"
      },
      "execution_count": null,
      "outputs": [
        {
          "output_type": "stream",
          "name": "stdout",
          "text": [
            "SESSION STARTED: SessionEventArgs(session_id=1c855b2f8232431fad540f29ea9e780b)\n",
            "RECOGNIZING: SpeechRecognitionEventArgs(session_id=1c855b2f8232431fad540f29ea9e780b, result=SpeechRecognitionResult(result_id=53c2ad079a744c5ebe55e1733bb76c80, text=\"don't ask me\", reason=ResultReason.RecognizingSpeech))\n",
            "RECOGNIZING: SpeechRecognitionEventArgs(session_id=1c855b2f8232431fad540f29ea9e780b, result=SpeechRecognitionResult(result_id=99eab42008da4cf786e907595e8bd950, text=\"don't ask me to\", reason=ResultReason.RecognizingSpeech))\n",
            "RECOGNIZING: SpeechRecognitionEventArgs(session_id=1c855b2f8232431fad540f29ea9e780b, result=SpeechRecognitionResult(result_id=f7117aa892574eb8b896ba9fe5eb48ca, text=\"don't ask me to carry an oily\", reason=ResultReason.RecognizingSpeech))\n",
            "RECOGNIZING: SpeechRecognitionEventArgs(session_id=1c855b2f8232431fad540f29ea9e780b, result=SpeechRecognitionResult(result_id=56ad066d0aed4d74bca509abb603dfca, text=\"don't ask me to carry an oily rag like\", reason=ResultReason.RecognizingSpeech))\n",
            "RECOGNIZING: SpeechRecognitionEventArgs(session_id=1c855b2f8232431fad540f29ea9e780b, result=SpeechRecognitionResult(result_id=16beadb7a35545eebbe49410249996ff, text=\"don't ask me to carry an oily rag like that\", reason=ResultReason.RecognizingSpeech))\n",
            "RECOGNIZED: SpeechRecognitionEventArgs(session_id=1c855b2f8232431fad540f29ea9e780b, result=SpeechRecognitionResult(result_id=ca957e38e2694d249456f311c492d63d, text=\"Don't ask me to carry an oily rag like that.\", reason=ResultReason.RecognizedSpeech))\n",
            "CANCELED SpeechRecognitionCanceledEventArgs(session_id=1c855b2f8232431fad540f29ea9e780b, result=SpeechRecognitionResult(result_id=e189805a2a574deeaf0adef06fe0bf58, text=\"\", reason=ResultReason.Canceled))\n",
            "CLOSING on SpeechRecognitionCanceledEventArgs(session_id=1c855b2f8232431fad540f29ea9e780b, result=SpeechRecognitionResult(result_id=e189805a2a574deeaf0adef06fe0bf58, text=\"\", reason=ResultReason.Canceled))\n",
            "SESSION STOPPED SessionEventArgs(session_id=1c855b2f8232431fad540f29ea9e780b)\n",
            "CLOSING on SessionEventArgs(session_id=1c855b2f8232431fad540f29ea9e780b)\n",
            "Printing all results:\n",
            "[\"Don't ask me to carry an oily rag like that.\"]\n",
            "Audio File: /content/drive/MyDrive/Data speech to text/mic_F01_sa2.wav converted successfully\n",
            "####################################################################################\n",
            "/content/drive/MyDrive/Data speech to text/mic_F01_sa2.wav\n",
            "SESSION STARTED: SessionEventArgs(session_id=21acb82c75a541fa8406921a168c07fb)\n",
            "RECOGNIZING: SpeechRecognitionEventArgs(session_id=21acb82c75a541fa8406921a168c07fb, result=SpeechRecognitionResult(result_id=2ba43719db48462792e3f1b24b0d24ac, text=\"yet he remains\", reason=ResultReason.RecognizingSpeech))\n",
            "RECOGNIZING: SpeechRecognitionEventArgs(session_id=21acb82c75a541fa8406921a168c07fb, result=SpeechRecognitionResult(result_id=dffb1f46e54d4525b56d2ebe50a69dde, text=\"yet he remains the\", reason=ResultReason.RecognizingSpeech))\n",
            "RECOGNIZING: SpeechRecognitionEventArgs(session_id=21acb82c75a541fa8406921a168c07fb, result=SpeechRecognitionResult(result_id=9503dbc5303349fb85846e47c24f7dc9, text=\"yet he remains the fiercest of\", reason=ResultReason.RecognizingSpeech))\n",
            "RECOGNIZING: SpeechRecognitionEventArgs(session_id=21acb82c75a541fa8406921a168c07fb, result=SpeechRecognitionResult(result_id=fc4d3f9ca1c84cddbba3886163715065, text=\"yet he remains the fiercest of competitors\", reason=ResultReason.RecognizingSpeech))\n",
            "RECOGNIZED: SpeechRecognitionEventArgs(session_id=21acb82c75a541fa8406921a168c07fb, result=SpeechRecognitionResult(result_id=73c93ab761c34ff89e6833a00ff35b05, text=\"Yet he remains the fiercest of competitors.\", reason=ResultReason.RecognizedSpeech))\n",
            "CANCELED SpeechRecognitionCanceledEventArgs(session_id=21acb82c75a541fa8406921a168c07fb, result=SpeechRecognitionResult(result_id=02f5199ad19f4ec0857c1f24a04530b6, text=\"\", reason=ResultReason.Canceled))\n",
            "CLOSING on SpeechRecognitionCanceledEventArgs(session_id=21acb82c75a541fa8406921a168c07fb, result=SpeechRecognitionResult(result_id=02f5199ad19f4ec0857c1f24a04530b6, text=\"\", reason=ResultReason.Canceled))\n",
            "SESSION STOPPED SessionEventArgs(session_id=21acb82c75a541fa8406921a168c07fb)\n",
            "CLOSING on SessionEventArgs(session_id=21acb82c75a541fa8406921a168c07fb)\n",
            "Printing all results:\n",
            "['Yet he remains the fiercest of competitors.']\n",
            "Audio File: /content/drive/MyDrive/Data speech to text/mic_F01_si473.wav converted successfully\n",
            "####################################################################################\n",
            "/content/drive/MyDrive/Data speech to text/mic_F01_si473.wav\n",
            "SESSION STARTED: SessionEventArgs(session_id=2cd27976492641eb9f3e3d336d80ae72)\n",
            "RECOGNIZING: SpeechRecognitionEventArgs(session_id=2cd27976492641eb9f3e3d336d80ae72, result=SpeechRecognitionResult(result_id=287744229b964e6e92e0f57fbd8fc394, text=\"if you\", reason=ResultReason.RecognizingSpeech))\n",
            "RECOGNIZING: SpeechRecognitionEventArgs(session_id=2cd27976492641eb9f3e3d336d80ae72, result=SpeechRecognitionResult(result_id=38366c1f2fd94e7b981d49df82b12036, text=\"if you destroy\", reason=ResultReason.RecognizingSpeech))\n",
            "RECOGNIZING: SpeechRecognitionEventArgs(session_id=2cd27976492641eb9f3e3d336d80ae72, result=SpeechRecognitionResult(result_id=6a206f336a344a339947877bfa707667, text=\"if you destroy confidence in\", reason=ResultReason.RecognizingSpeech))\n",
            "RECOGNIZING: SpeechRecognitionEventArgs(session_id=2cd27976492641eb9f3e3d336d80ae72, result=SpeechRecognitionResult(result_id=0b6161cc978b4bb688892bda8e425e51, text=\"if you destroy confidence in banks\", reason=ResultReason.RecognizingSpeech))\n",
            "RECOGNIZING: SpeechRecognitionEventArgs(session_id=2cd27976492641eb9f3e3d336d80ae72, result=SpeechRecognitionResult(result_id=30e5373007d14b52b84220245d3a2838, text=\"if you destroy confidence in banks you do\", reason=ResultReason.RecognizingSpeech))\n",
            "RECOGNIZING: SpeechRecognitionEventArgs(session_id=2cd27976492641eb9f3e3d336d80ae72, result=SpeechRecognitionResult(result_id=02ef31d3cb8d44808e26bd3e8ccdcd11, text=\"if you destroy confidence in banks you do something to\", reason=ResultReason.RecognizingSpeech))\n",
            "RECOGNIZING: SpeechRecognitionEventArgs(session_id=2cd27976492641eb9f3e3d336d80ae72, result=SpeechRecognitionResult(result_id=cde819fe312e4847ac26bd692f4e73a9, text=\"if you destroy confidence in banks you do something to the\", reason=ResultReason.RecognizingSpeech))\n",
            "RECOGNIZING: SpeechRecognitionEventArgs(session_id=2cd27976492641eb9f3e3d336d80ae72, result=SpeechRecognitionResult(result_id=5a34ae84bbc6408f875bd5685594d66c, text=\"if you destroy confidence in banks you do something to the economy\", reason=ResultReason.RecognizingSpeech))\n",
            "RECOGNIZING: SpeechRecognitionEventArgs(session_id=2cd27976492641eb9f3e3d336d80ae72, result=SpeechRecognitionResult(result_id=8fb5510bff0c4172ad12bbb21c4ceb4a, text=\"if you destroy confidence in banks you do something to the economy he\", reason=ResultReason.RecognizingSpeech))\n",
            "RECOGNIZING: SpeechRecognitionEventArgs(session_id=2cd27976492641eb9f3e3d336d80ae72, result=SpeechRecognitionResult(result_id=304c5486da104173a872231cf6ce0b95, text=\"if you destroy confidence in banks you do something to the economy he said\", reason=ResultReason.RecognizingSpeech))\n",
            "RECOGNIZED: SpeechRecognitionEventArgs(session_id=2cd27976492641eb9f3e3d336d80ae72, result=SpeechRecognitionResult(result_id=c0651d7046124cf1a62f42b45ed49f28, text=\"If you destroy confidence in banks, you do something to the economy, he said.\", reason=ResultReason.RecognizedSpeech))\n",
            "CANCELED SpeechRecognitionCanceledEventArgs(session_id=2cd27976492641eb9f3e3d336d80ae72, result=SpeechRecognitionResult(result_id=815e29aa661143c486ea8567f50d329c, text=\"\", reason=ResultReason.Canceled))\n",
            "CLOSING on SpeechRecognitionCanceledEventArgs(session_id=2cd27976492641eb9f3e3d336d80ae72, result=SpeechRecognitionResult(result_id=815e29aa661143c486ea8567f50d329c, text=\"\", reason=ResultReason.Canceled))\n",
            "SESSION STOPPED SessionEventArgs(session_id=2cd27976492641eb9f3e3d336d80ae72)\n",
            "CLOSING on SessionEventArgs(session_id=2cd27976492641eb9f3e3d336d80ae72)\n",
            "Printing all results:\n",
            "['If you destroy confidence in banks, you do something to the economy, he said.']\n",
            "Audio File: /content/drive/MyDrive/Data speech to text/mic_F01_si454.wav converted successfully\n",
            "####################################################################################\n",
            "/content/drive/MyDrive/Data speech to text/mic_F01_si454.wav\n",
            "SESSION STARTED: SessionEventArgs(session_id=4e81f7f518f54363867313f0092e21ee)\n",
            "RECOGNIZING: SpeechRecognitionEventArgs(session_id=4e81f7f518f54363867313f0092e21ee, result=SpeechRecognitionResult(result_id=3044bb95b1534babb2c47e77646fd9af, text=\"what's\", reason=ResultReason.RecognizingSpeech))\n",
            "RECOGNIZING: SpeechRecognitionEventArgs(session_id=4e81f7f518f54363867313f0092e21ee, result=SpeechRecognitionResult(result_id=13833f0a00f941a599e436fad4114b3f, text=\"what's the weather like\", reason=ResultReason.RecognizingSpeech))\n",
            "RECOGNIZED: SpeechRecognitionEventArgs(session_id=4e81f7f518f54363867313f0092e21ee, result=SpeechRecognitionResult(result_id=7063adb561d04416a8b5bfbd9944a491, text=\"What's the weather like?\", reason=ResultReason.RecognizedSpeech))\n",
            "CANCELED SpeechRecognitionCanceledEventArgs(session_id=4e81f7f518f54363867313f0092e21ee, result=SpeechRecognitionResult(result_id=32a81c28efcd46e9a24c9a8bf0b28dba, text=\"\", reason=ResultReason.Canceled))\n",
            "CLOSING on SpeechRecognitionCanceledEventArgs(session_id=4e81f7f518f54363867313f0092e21ee, result=SpeechRecognitionResult(result_id=32a81c28efcd46e9a24c9a8bf0b28dba, text=\"\", reason=ResultReason.Canceled))\n",
            "SESSION STOPPED SessionEventArgs(session_id=4e81f7f518f54363867313f0092e21ee)\n",
            "CLOSING on SessionEventArgs(session_id=4e81f7f518f54363867313f0092e21ee)\n",
            "Printing all results:\n",
            "[\"What's the weather like?\"]\n",
            "Audio File: /content/drive/MyDrive/Data speech to text/whatstheweatherlike.wav converted successfully\n",
            "####################################################################################\n",
            "/content/drive/MyDrive/Data speech to text/whatstheweatherlike.wav\n"
          ]
        }
      ]
    },
    {
      "cell_type": "code",
      "source": [],
      "metadata": {
        "id": "0tOyK6xvS3Dg"
      },
      "execution_count": null,
      "outputs": []
    }
  ]
}