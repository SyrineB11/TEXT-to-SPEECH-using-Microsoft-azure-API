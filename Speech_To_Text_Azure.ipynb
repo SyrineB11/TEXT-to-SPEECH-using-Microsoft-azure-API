{
  "nbformat": 4,
  "nbformat_minor": 0,
  "metadata": {
    "colab": {
      "provenance": [],
      "collapsed_sections": []
    },
    "kernelspec": {
      "name": "python3",
      "display_name": "Python 3"
    },
    "language_info": {
      "name": "python"
    },
    "accelerator": "GPU"
  },
  "cells": [
    {
      "cell_type": "code",
      "source": [
        "pip install azure-cognitiveservices-speech"
      ],
      "metadata": {
        "id": "WnlRpqafXnEX",
        "colab": {
          "base_uri": "https://localhost:8080/"
        },
        "outputId": "91c0e858-f433-4b42-eae2-be1deabcc14a"
      },
      "execution_count": null,
      "outputs": [
        {
          "output_type": "stream",
          "name": "stdout",
          "text": [
            "Looking in indexes: https://pypi.org/simple, https://us-python.pkg.dev/colab-wheels/public/simple/\n",
            "Collecting azure-cognitiveservices-speech\n",
            "  Downloading azure_cognitiveservices_speech-1.24.0-py3-none-manylinux1_x86_64.whl (2.5 MB)\n",
            "\u001b[K     |████████████████████████████████| 2.5 MB 6.3 MB/s \n",
            "\u001b[?25hInstalling collected packages: azure-cognitiveservices-speech\n",
            "Successfully installed azure-cognitiveservices-speech-1.24.0\n"
          ]
        }
      ]
    },
    {
      "cell_type": "code",
      "source": [
        "pip install --upgrade azure-cognitiveservices-speech\n"
      ],
      "metadata": {
        "colab": {
          "base_uri": "https://localhost:8080/"
        },
        "id": "jnnEp8ne8HTo",
        "outputId": "2b0606c3-3276-4dd1-d2cf-685d8fb2eab9"
      },
      "execution_count": null,
      "outputs": [
        {
          "output_type": "stream",
          "name": "stdout",
          "text": [
            "Looking in indexes: https://pypi.org/simple, https://us-python.pkg.dev/colab-wheels/public/simple/\n",
            "Requirement already satisfied: azure-cognitiveservices-speech in /usr/local/lib/python3.7/dist-packages (1.24.0)\n"
          ]
        }
      ]
    },
    {
      "cell_type": "code",
      "source": [
        "import azure.cognitiveservices.speech as speechsdk\n"
      ],
      "metadata": {
        "id": "bD7HPc_68Rtf"
      },
      "execution_count": null,
      "outputs": []
    },
    {
      "cell_type": "code",
      "source": [
        "from azure.cognitiveservices.speech import (\n",
        "    AudioDataStream,\n",
        "    SpeechConfig,\n",
        "    SpeechSynthesizer,\n",
        "    SpeechSynthesisOutputFormat,\n",
        ")"
      ],
      "metadata": {
        "id": "boYRYLXv-koT"
      },
      "execution_count": null,
      "outputs": []
    },
    {
      "cell_type": "code",
      "source": [
        "import json\n",
        "import azure.cognitiveservices.speech as speech\n",
        "\n",
        "API_KEY ='f403cf8ed5bd4f4eab2218fa12c416fc'\n",
        "ENDPOINT='file-11583.wav'\n",
        "media_file_path ='C:/Users/LENOVO/PycharmProjects/speech-to-text/mic_F01_sa2.wav'\n",
        "translation_config = speech.translation.SpeechTranslationConfig(\n",
        "    subscription=API_KEY,\n",
        "    endpoint=ENDPOINT\n",
        ")\n",
        "translation_config.speech_recognition_language='en-US'\n",
        "translation_config.add_target_language('en')\n",
        "\n",
        "audio_config=speech.audio.AudioConfig(filename=media_file_path)\n",
        "recognizer=speech.translation.TranslationRecognizer(\n",
        "    translation_config=translation_config,audio_config=audio_config\n",
        ")\n"
      ],
      "metadata": {
        "colab": {
          "base_uri": "https://localhost:8080/",
          "height": 938
        },
        "id": "NynJivkS5MQ8",
        "outputId": "8a892ca2-e7b4-483e-a6e2-eb1361c6562f"
      },
      "execution_count": null,
      "outputs": [
        {
          "output_type": "error",
          "ename": "RuntimeError",
          "evalue": "ignored",
          "traceback": [
            "\u001b[0;31m---------------------------------------------------------------------------\u001b[0m",
            "\u001b[0;31mRuntimeError\u001b[0m                              Traceback (most recent call last)",
            "\u001b[0;32m<ipython-input-11-35abaf69c2a7>\u001b[0m in \u001b[0;36m<module>\u001b[0;34m\u001b[0m\n\u001b[1;32m     14\u001b[0m \u001b[0maudio_config\u001b[0m\u001b[0;34m=\u001b[0m\u001b[0mspeech\u001b[0m\u001b[0;34m.\u001b[0m\u001b[0maudio\u001b[0m\u001b[0;34m.\u001b[0m\u001b[0mAudioConfig\u001b[0m\u001b[0;34m(\u001b[0m\u001b[0mfilename\u001b[0m\u001b[0;34m=\u001b[0m\u001b[0mmedia_file_path\u001b[0m\u001b[0;34m)\u001b[0m\u001b[0;34m\u001b[0m\u001b[0;34m\u001b[0m\u001b[0m\n\u001b[1;32m     15\u001b[0m recognizer=speech.translation.TranslationRecognizer(\n\u001b[0;32m---> 16\u001b[0;31m     \u001b[0mtranslation_config\u001b[0m\u001b[0;34m=\u001b[0m\u001b[0mtranslation_config\u001b[0m\u001b[0;34m,\u001b[0m\u001b[0maudio_config\u001b[0m\u001b[0;34m=\u001b[0m\u001b[0maudio_config\u001b[0m\u001b[0;34m\u001b[0m\u001b[0;34m\u001b[0m\u001b[0m\n\u001b[0m\u001b[1;32m     17\u001b[0m )\n",
            "\u001b[0;32m/usr/local/lib/python3.7/dist-packages/azure/cognitiveservices/speech/translation.py\u001b[0m in \u001b[0;36m__init__\u001b[0;34m(self, translation_config, auto_detect_source_language_config, audio_config)\u001b[0m\n\u001b[1;32m    344\u001b[0m             _call_hr_fn(\n\u001b[1;32m    345\u001b[0m                 \u001b[0mfn\u001b[0m\u001b[0;34m=\u001b[0m\u001b[0m_sdk_lib\u001b[0m\u001b[0;34m.\u001b[0m\u001b[0mrecognizer_create_translation_recognizer_from_config\u001b[0m\u001b[0;34m,\u001b[0m\u001b[0;34m\u001b[0m\u001b[0;34m\u001b[0m\u001b[0m\n\u001b[0;32m--> 346\u001b[0;31m                 *[ctypes.byref(handle), translation_config._handle, audio_config_handle])\n\u001b[0m\u001b[1;32m    347\u001b[0m         \u001b[0;32melse\u001b[0m\u001b[0;34m:\u001b[0m\u001b[0;34m\u001b[0m\u001b[0;34m\u001b[0m\u001b[0m\n\u001b[1;32m    348\u001b[0m             _call_hr_fn(\n",
            "\u001b[0;32m/usr/local/lib/python3.7/dist-packages/azure/cognitiveservices/speech/interop.py\u001b[0m in \u001b[0;36m_call_hr_fn\u001b[0;34m(fn, *args)\u001b[0m\n\u001b[1;32m     60\u001b[0m     \u001b[0mfn\u001b[0m\u001b[0;34m.\u001b[0m\u001b[0mrestype\u001b[0m \u001b[0;34m=\u001b[0m \u001b[0m_spx_hr\u001b[0m\u001b[0;34m\u001b[0m\u001b[0;34m\u001b[0m\u001b[0m\n\u001b[1;32m     61\u001b[0m     \u001b[0mhr\u001b[0m \u001b[0;34m=\u001b[0m \u001b[0mfn\u001b[0m\u001b[0;34m(\u001b[0m\u001b[0;34m*\u001b[0m\u001b[0margs\u001b[0m\u001b[0;34m)\u001b[0m \u001b[0;32mif\u001b[0m \u001b[0mlen\u001b[0m\u001b[0;34m(\u001b[0m\u001b[0margs\u001b[0m\u001b[0;34m)\u001b[0m \u001b[0;34m>\u001b[0m \u001b[0;36m0\u001b[0m \u001b[0;32melse\u001b[0m \u001b[0mfn\u001b[0m\u001b[0;34m(\u001b[0m\u001b[0;34m)\u001b[0m\u001b[0;34m\u001b[0m\u001b[0;34m\u001b[0m\u001b[0m\n\u001b[0;32m---> 62\u001b[0;31m     \u001b[0m_raise_if_failed\u001b[0m\u001b[0;34m(\u001b[0m\u001b[0mhr\u001b[0m\u001b[0;34m)\u001b[0m\u001b[0;34m\u001b[0m\u001b[0;34m\u001b[0m\u001b[0m\n\u001b[0m\u001b[1;32m     63\u001b[0m \u001b[0;34m\u001b[0m\u001b[0m\n\u001b[1;32m     64\u001b[0m \u001b[0;34m\u001b[0m\u001b[0m\n",
            "\u001b[0;32m/usr/local/lib/python3.7/dist-packages/azure/cognitiveservices/speech/interop.py\u001b[0m in \u001b[0;36m_raise_if_failed\u001b[0;34m(hr)\u001b[0m\n\u001b[1;32m     53\u001b[0m \u001b[0;32mdef\u001b[0m \u001b[0m_raise_if_failed\u001b[0m\u001b[0;34m(\u001b[0m\u001b[0mhr\u001b[0m\u001b[0;34m:\u001b[0m \u001b[0m_spx_hr\u001b[0m\u001b[0;34m)\u001b[0m\u001b[0;34m:\u001b[0m\u001b[0;34m\u001b[0m\u001b[0;34m\u001b[0m\u001b[0m\n\u001b[1;32m     54\u001b[0m     \u001b[0;32mif\u001b[0m \u001b[0mhr\u001b[0m \u001b[0;34m!=\u001b[0m \u001b[0;36m0\u001b[0m\u001b[0;34m:\u001b[0m\u001b[0;34m\u001b[0m\u001b[0;34m\u001b[0m\u001b[0m\n\u001b[0;32m---> 55\u001b[0;31m         \u001b[0m__try_get_error\u001b[0m\u001b[0;34m(\u001b[0m\u001b[0m_spx_handle\u001b[0m\u001b[0;34m(\u001b[0m\u001b[0mhr\u001b[0m\u001b[0;34m)\u001b[0m\u001b[0;34m)\u001b[0m\u001b[0;34m\u001b[0m\u001b[0;34m\u001b[0m\u001b[0m\n\u001b[0m\u001b[1;32m     56\u001b[0m         \u001b[0;32mraise\u001b[0m \u001b[0mRuntimeError\u001b[0m\u001b[0;34m(\u001b[0m\u001b[0mhr\u001b[0m\u001b[0;34m)\u001b[0m\u001b[0;34m\u001b[0m\u001b[0;34m\u001b[0m\u001b[0m\n\u001b[1;32m     57\u001b[0m \u001b[0;34m\u001b[0m\u001b[0m\n",
            "\u001b[0;32m/usr/local/lib/python3.7/dist-packages/azure/cognitiveservices/speech/interop.py\u001b[0m in \u001b[0;36m__try_get_error\u001b[0;34m(error_handle)\u001b[0m\n\u001b[1;32m     48\u001b[0m     )\n\u001b[1;32m     49\u001b[0m     \u001b[0m_sdk_lib\u001b[0m\u001b[0;34m.\u001b[0m\u001b[0merror_release\u001b[0m\u001b[0;34m(\u001b[0m\u001b[0merror_handle\u001b[0m\u001b[0;34m)\u001b[0m\u001b[0;34m\u001b[0m\u001b[0;34m\u001b[0m\u001b[0m\n\u001b[0;32m---> 50\u001b[0;31m     \u001b[0;32mraise\u001b[0m \u001b[0mRuntimeError\u001b[0m\u001b[0;34m(\u001b[0m\u001b[0mmessage\u001b[0m\u001b[0;34m)\u001b[0m\u001b[0;34m\u001b[0m\u001b[0;34m\u001b[0m\u001b[0m\n\u001b[0m\u001b[1;32m     51\u001b[0m \u001b[0;34m\u001b[0m\u001b[0m\n\u001b[1;32m     52\u001b[0m \u001b[0;34m\u001b[0m\u001b[0m\n",
            "\u001b[0;31mRuntimeError\u001b[0m: Exception with error code: \n[CALL STACK BEGIN]\n\n/usr/local/lib/python3.7/dist-packages/azure/cognitiveservices/speech/libMicrosoft.CognitiveServices.Speech.core.so(+0x194436) [0x7fe4240c9436]\n/usr/local/lib/python3.7/dist-packages/azure/cognitiveservices/speech/libMicrosoft.CognitiveServices.Speech.core.so(+0x191c8b) [0x7fe4240c6c8b]\n/usr/local/lib/python3.7/dist-packages/azure/cognitiveservices/speech/libMicrosoft.CognitiveServices.Speech.core.so(+0x19243e) [0x7fe4240c743e]\n/usr/local/lib/python3.7/dist-packages/azure/cognitiveservices/speech/libMicrosoft.CognitiveServices.Speech.core.so(+0x135fba) [0x7fe42406afba]\n/usr/local/lib/python3.7/dist-packages/azure/cognitiveservices/speech/libMicrosoft.CognitiveServices.Speech.core.so(+0x135fba) [0x7fe42406afba]\n/usr/local/lib/python3.7/dist-packages/azure/cognitiveservices/speech/libMicrosoft.CognitiveServices.Speech.core.so(+0x152fc7) [0x7fe424087fc7]\n/usr/local/lib/python3.7/dist-packages/azure/cognitiveservices/speech/libMicrosoft.CognitiveServices.Speech.core.so(+0x13a41f) [0x7fe42406f41f]\n/usr/local/lib/python3.7/dist-packages/azure/cognitiveservices/speech/libMicrosoft.CognitiveServices.Speech.core.so(+0x13a11e) [0x7fe42406f11e]\n/usr/local/lib/python3.7/dist-packages/azure/cognitiveservices/speech/libMicrosoft.CognitiveServices.Speech.core.so(recognizer_create_translation_recognizer_from_config+0x241) [0x7fe424003712]\n/usr/lib/x86_64-linux-gnu/libffi.so.6(ffi_call_unix64+0x4c) [0x7fe438d1edae]\n/usr/lib/x86_64-linux-gnu/libffi.so.6(ffi_call+0x22f) [0x7fe438d1e71f]\n/usr/lib/python3.7/lib-dynload/_ctypes.cpython-37m-x86_64-linux-gnu.so(+0xd849) [0x7fe438f2e849]\n/usr/lib/python3.7/lib-dynload/_ctypes.cpython-37m-x86_64-linux-gnu.so(+0x12b05) [0x7fe438f33b05]\n/usr/bin/python3(PyObject_Call+0x66) [0x5913c6]\n/usr/bin/python3(_PyEval_EvalFrameDefault+0x202c) [0x51908c]\n/usr/bin/python3(_PyEval_EvalCodeWithName+0xbbe) [0x5b4a3e]\n/usr/bin/python3(_PyFunction_FastCallDict+0x25a) [0x4ba80a]\n[CALL STACK END]\n\nException with an error code: 0x8 (SPXERR_FILE_OPEN_FAILED)"
          ]
        }
      ]
    },
    {
      "cell_type": "code",
      "source": [
        "speech_config = SpeechConfig(subscription=API_KEY, region=\"eastus\")"
      ],
      "metadata": {
        "id": "vvSxqx81-sEi"
      },
      "execution_count": null,
      "outputs": []
    },
    {
      "cell_type": "code",
      "source": [
        "speech_config = speechsdk.SpeechConfig(subscription=API_KEY,\n",
        "                                       region=\"eastus\",\n",
        "                                       speech_recognition_language='en-GB')"
      ],
      "metadata": {
        "id": "v82xtHMl8q94"
      },
      "execution_count": null,
      "outputs": []
    },
    {
      "cell_type": "code",
      "source": [
        "audio_format = \"Riff24Khz16BitMonoPcm\""
      ],
      "metadata": {
        "id": "Dlw5mcpp-8dX"
      },
      "execution_count": null,
      "outputs": []
    },
    {
      "cell_type": "code",
      "source": [
        "speech_config.set_speech_synthesis_output_format(\n",
        "    SpeechSynthesisOutputFormat[audio_format]\n",
        ")"
      ],
      "metadata": {
        "id": "pbUMqmVF-2_K"
      },
      "execution_count": null,
      "outputs": []
    },
    {
      "cell_type": "code",
      "source": [
        "with open('input.xml', 'r') as f:\n",
        "    data = f.read()"
      ],
      "metadata": {
        "id": "OQz79dtCAJfY"
      },
      "execution_count": null,
      "outputs": []
    },
    {
      "cell_type": "code",
      "source": [
        "import random\n",
        "from azure.cognitiveservices.speech import (\n",
        "    AudioDataStream,\n",
        "    SpeechConfig,\n",
        "    SpeechSynthesizer,\n",
        "    SpeechSynthesisOutputFormat,\n",
        ")\n",
        "\n",
        "# Subscription settings from Azure\n",
        "# Region can be westeurope for example\n",
        "key = 'f403cf8ed5bd4f4eab2218fa12c416fc'\n",
        "region = \"eastus\"\n",
        "subscription_key = 'f403cf8ed5bd4f4eab2218fa12c416fc'\n",
        "subscription_region = \"eastus\"\n",
        "\n",
        "# Input SSML file\n",
        "# Open this file to change or fine-tune the pitch, pronunciation, speaking rate, volume, voice, language and more\n",
        "# https://github.com/MicrosoftDocs/azure-docs/blob/master/articles/cognitive-services/Speech-Service/language-support.md#neural-voices\n",
        "\n",
        "input_file = \"ssml.xml\"\n",
        "\n",
        "# https://docs.microsoft.com/nl-nl/python/api/azure-cognitiveservices-speech/azure.cognitiveservices.speech.speechsynthesisoutputformat?view=azure-python\n",
        "audio_format = \"Riff24Khz16BitMonoPcm\"\n",
        "\n",
        "# Output folder and file\n",
        "output_folder = \"output/\"\n",
        "output_file = f\"file-{random.randint(10000,99999)}.wav\"\n",
        "\n",
        "speech_config = SpeechConfig(subscription=subscription_key, region=subscription_region)\n",
        "speech_config.set_speech_synthesis_output_format(\n",
        "    SpeechSynthesisOutputFormat[audio_format]\n",
        ")\n",
        "synthesizer = SpeechSynthesizer(speech_config=speech_config, audio_config=None)\n",
        "\n",
        "input = open(f\"{input_file}\", \"r\").read()\n",
        "result = synthesizer.speak_ssml_async(input).get()\n",
        "\n",
        "stream = AudioDataStream(result)\n",
        "stream.save_to_wav_file(f\"{output_file}\")"
      ],
      "metadata": {
        "id": "vTwQX9Rn65rF"
      },
      "execution_count": null,
      "outputs": []
    }
  ]
}